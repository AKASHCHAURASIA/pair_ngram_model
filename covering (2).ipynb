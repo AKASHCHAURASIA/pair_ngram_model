{
 "cells": [
  {
   "cell_type": "code",
   "execution_count": 1,
   "metadata": {},
   "outputs": [],
   "source": [
    "import pynini\n",
    "import pywrapfst as fst"
   ]
  },
  {
   "cell_type": "code",
   "execution_count": 2,
   "metadata": {},
   "outputs": [],
   "source": [
    "def create_lists(g_far_path, p_far_path):\n",
    "    g_far_reader = pynini.Far(g_far_path, mode = 'r') \n",
    "    p_far_reader = pynini.Far(p_far_path, mode = 'r') \n",
    "    g_container = []\n",
    "    p_container = []\n",
    "    while not g_far_reader.done():   \n",
    "        g_fsa = g_far_reader.get_fst()\n",
    "        g_labels_extract = g_fsa.paths().ilabels()\n",
    "        g_container.append(g_labels_extract)\n",
    "        g_far_reader.next()\n",
    "    while not p_far_reader.done():   \n",
    "        p_fsa = p_far_reader.get_fst()\n",
    "        p_labels_extract = p_fsa.paths().ilabels()\n",
    "        p_container.append(p_labels_extract)\n",
    "        p_far_reader.next()\n",
    "    \n",
    "    g_far_reader.reset()\n",
    "    p_far_reader.reset()\n",
    "    return g_container, p_container\n",
    "\n",
    "\n",
    "def make_lattice(container: list):\n",
    "    lattice = pynini.Fst()\n",
    "    starting_state = lattice.add_state()\n",
    "    lattice.set_start(starting_state)\n",
    "    for labels in container:\n",
    "        state = starting_state\n",
    "        for label in labels:\n",
    "            nextstate = lattice.add_state()\n",
    "            lattice.add_arc(state, pynini.Arc(label, label, pynini.Weight.One(lattice.weight_type()), nextstate)) \n",
    "            state = nextstate\n",
    "        g_lattice = lattice.set_final(state)\n",
    "    assert lattice.verify(), \"Invalid lattice\"\n",
    "    return lattice.closure()\n",
    "\n"
   ]
  },
  {
   "cell_type": "code",
   "execution_count": 10,
   "metadata": {},
   "outputs": [],
   "source": [
    "def main(g_far_path, p_far_path):\n",
    "    g_container, p_container = create_lists(g_far_path, p_far_path)   \n",
    "    g_lattice = make_lattice(g_container)\n",
    "    p_lattice = make_lattice(p_container)\n",
    "    pynini.transducer(g_lattice, p_lattice, weight=None, arc_type=None,\n",
    "           input_token_type=\"byte\", output_token_type=\"byte\",\n",
    "           attach_input_symbols=True, attach_output_symbols=True)\n",
    "    "
   ]
  },
  {
   "cell_type": "code",
   "execution_count": null,
   "metadata": {},
   "outputs": [],
   "source": [
    "main('h_g.far', 'g_p.far')"
   ]
  },
  {
   "cell_type": "code",
   "execution_count": null,
   "metadata": {},
   "outputs": [],
   "source": []
  }
 ],
 "metadata": {
  "kernelspec": {
   "display_name": "Python 3",
   "language": "python",
   "name": "python3"
  },
  "language_info": {
   "codemirror_mode": {
    "name": "ipython",
    "version": 3
   },
   "file_extension": ".py",
   "mimetype": "text/x-python",
   "name": "python",
   "nbconvert_exporter": "python",
   "pygments_lexer": "ipython3",
   "version": "3.6.5"
  }
 },
 "nbformat": 4,
 "nbformat_minor": 2
}
